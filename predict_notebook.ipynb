{
 "cells": [
  {
   "cell_type": "code",
   "execution_count": 1,
   "metadata": {},
   "outputs": [],
   "source": [
    "import os\n",
    "import time \n",
    "import cv2\n",
    "import numpy as np\n",
    "import onnxruntime as rt\n",
    "import torch\n",
    "import torch.nn.functional as F\n",
    "import pandas as pd \n",
    "import argparse\n",
    "from src.data_io import transform as trans\n",
    "from src.generate_patches import CropImage\n",
    "from src.model_test import Detection\n",
    "from src.utility import parse_model_name\n",
    "import warnings\n",
    "warnings.filterwarnings('ignore')\n"
   ]
  },
  {
   "cell_type": "code",
   "execution_count": 3,
   "metadata": {},
   "outputs": [],
   "source": [
    "def load_model(onnx_path):\n",
    "    model = rt.InferenceSession(onnx_path, providers=['CUDAExecutionProvider'])\n",
    "    return model\n",
    "\n",
    "def predict_onnx(model, img: torch.Tensor) -> np.ndarray:\n",
    "    input_name = model.get_inputs()[0].name\n",
    "    output_name = model.get_outputs()[0].name\n",
    "    pred_onx = model.run([output_name], {input_name: (img.cpu().numpy()).astype(np.float32)})[0]\n",
    "    return pred_onx\n",
    "\n",
    "def forward(img, model, device):\n",
    "    test_transform = trans.Compose(\n",
    "        [\n",
    "            trans.ToTensor(),\n",
    "        ]\n",
    "    )\n",
    "    img = test_transform(img)\n",
    "    img = img.to(device)\n",
    "    img = img[None,:,:]\n",
    "    result = predict_onnx(model,img)\n",
    "    \n",
    "    result = F.softmax(torch.Tensor(result)).cpu().numpy()\n",
    "    return result\n",
    "def predict(image, model_dir):\n",
    "    image_cropper = CropImage()\n",
    "    model_test = Detection()\n",
    "    image_bbox = model_test.get_bbox(image)\n",
    "    prediction = np.zeros((1, 2))\n",
    "    for model_name in os.listdir(model_dir):\n",
    "        model_path = os.path.join(model_dir, model_name)\n",
    "\n",
    "        h_input, w_input, _, scale = parse_model_name(model_name)\n",
    "        param = {\n",
    "            \"org_img\": image,\n",
    "            \"bbox\": image_bbox,\n",
    "            \"scale\": scale,\n",
    "            \"out_w\": w_input,\n",
    "            \"out_h\": h_input,\n",
    "            \"crop\": True,\n",
    "        }\n",
    "        if scale is None:\n",
    "            param[\"crop\"] = False\n",
    "        img = image_cropper.crop(**param)\n",
    "        model = load_model(model_path)\n",
    "        prediction += forward(img, model,device=torch.device('cuda'))\n",
    "    label = np.argmax(prediction)\n",
    "    score = prediction[0][label] / 2\n",
    "    if label == 1:\n",
    "        return score\n",
    "    else:\n",
    "        return 1 - score"
   ]
  },
  {
   "cell_type": "code",
   "execution_count": 4,
   "metadata": {},
   "outputs": [],
   "source": [
    "def post_processing(file_path,model_dir):\n",
    "    cap = cv2.VideoCapture(file_path)\n",
    "    ls = []\n",
    "    c = 0\n",
    "    while cap.isOpened():\n",
    "        ret, frame = cap.read()\n",
    "        try:\n",
    "            if c % 5 == 0:\n",
    "                score = predict(frame,model_dir)\n",
    "                ls.append(score)\n",
    "            c +=1\n",
    "        except:\n",
    "            break\n",
    "    return ls"
   ]
  },
  {
   "cell_type": "code",
   "execution_count": 5,
   "metadata": {},
   "outputs": [],
   "source": [
    "data_dir = '/data/'\n",
    "test_cases = os.listdir(data_dir)\n",
    "model_dir = '/code/resources/ckpt_onnx/'"
   ]
  },
  {
   "cell_type": "code",
   "execution_count": null,
   "metadata": {},
   "outputs": [],
   "source": [
    "all_predicted_time = []\n",
    "all_result = []\n",
    "print('preprocessing ...')\n",
    "for file_name in test_cases:\n",
    "    t1 = time.time()  \n",
    "    file_path = os.path.join(data_dir,file_name)\n",
    "    result = post_processing(file_path,model_dir)\n",
    "    t2 = time.time()\n",
    "    predicted_time = int(t2*1000 - t1*1000)\n",
    "    all_predicted_time.append((file_name, predicted_time))\n",
    "    all_result.append((file_name,sum(result)/len(result)))\n",
    "df_1 = pd.DataFrame(all_result,columns=[\"fname\", \"liveness_score\"])\n",
    "df_2 = pd.DataFrame(all_predicted_time,columns=[\"fname\", \"time_submission\"])\n",
    "os.makedirs('/result',exist_ok=True)\n",
    "df_1.to_csv(\"/result/jupyter_submission.csv\", index=False, encoding=\"utf-8\", float_format=\"%.10f\")\n",
    "df_2.to_csv(\"/result/time_submission.csv\", index=False, encoding=\"utf-8\", float_format=\"%.10f\")\n",
    "\n",
    "print('output will be saved in /result/time_submission.csv')\n",
    "print('output will be saved in /result/jupyter_submission.csv')"
   ]
  }
 ],
 "metadata": {
  "kernelspec": {
   "display_name": "Python 3.9.13 ('test')",
   "language": "python",
   "name": "python3"
  },
  "language_info": {
   "codemirror_mode": {
    "name": "ipython",
    "version": 3
   },
   "file_extension": ".py",
   "mimetype": "text/x-python",
   "name": "python",
   "nbconvert_exporter": "python",
   "pygments_lexer": "ipython3",
   "version": "3.9.13 | packaged by conda-forge | (main, May 27 2022, 16:51:29) [MSC v.1929 64 bit (AMD64)]"
  },
  "orig_nbformat": 4,
  "vscode": {
   "interpreter": {
    "hash": "9cdd3a2faeb081278cb5e2537844d6d2bbfad5ce1371e8d4f4800df3bc588d33"
   }
  }
 },
 "nbformat": 4,
 "nbformat_minor": 2
}
